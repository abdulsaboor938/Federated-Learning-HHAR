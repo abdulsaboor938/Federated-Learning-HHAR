{
 "cells": [
  {
   "cell_type": "code",
   "execution_count": 2,
   "metadata": {},
   "outputs": [],
   "source": [
    "# importing modules and installing dependencies\n",
    "\n",
    "from typing import Dict, Optional, Tuple\n",
    "from pathlib import Path\n",
    "\n",
    "try:\n",
    "    import flwr as fl\n",
    "except:\n",
    "    !pip install flwr\n",
    "    import flwr as fl\n",
    "\n",
    "import tensorflow as tf"
   ]
  },
  {
   "cell_type": "code",
   "execution_count": 5,
   "metadata": {},
   "outputs": [],
   "source": [
    "def weighted_average(metrics):\n",
    "    accuracies = [num_examples * m[\"accuracy\"] for num_examples, m in metrics]\n",
    "    #losses = [num_examples * m[\"loss\"] for num_examples, m in metrics]\n",
    "    examples = [num_examples for num_examples, _ in metrics]\n",
    "    return {\"accuracy\": sum(accuracies) / sum(examples)}"
   ]
  },
  {
   "cell_type": "code",
   "execution_count": 6,
   "metadata": {},
   "outputs": [],
   "source": [
    "# Define strategy\n",
    "strategy = fl.server.strategy.FedAvg(\n",
    "    fraction_fit=1.0,\n",
    "    fraction_evaluate=1.0,\n",
    "    min_fit_clients=2,\n",
    "    min_evaluate_clients=2,\n",
    "    min_available_clients=2,\n",
    "    evaluate_metrics_aggregation_fn=weighted_average,\n",
    ")"
   ]
  },
  {
   "cell_type": "code",
   "execution_count": 7,
   "metadata": {},
   "outputs": [
    {
     "name": "stderr",
     "output_type": "stream",
     "text": [
      "INFO flwr 2023-08-26 13:03:58,646 | app.py:148 | Starting Flower server, config: ServerConfig(num_rounds=5, round_timeout=None)\n",
      "INFO flwr 2023-08-26 13:03:58,668 | app.py:168 | Flower ECE: gRPC server running (5 rounds), SSL is disabled\n",
      "INFO flwr 2023-08-26 13:03:58,669 | server.py:86 | Initializing global parameters\n",
      "INFO flwr 2023-08-26 13:03:58,669 | server.py:273 | Requesting initial parameters from one random client\n"
     ]
    },
    {
     "ename": "KeyboardInterrupt",
     "evalue": "",
     "output_type": "error",
     "traceback": [
      "\u001b[0;31m---------------------------------------------------------------------------\u001b[0m",
      "\u001b[0;31mKeyboardInterrupt\u001b[0m                         Traceback (most recent call last)",
      "Cell \u001b[0;32mIn[7], line 2\u001b[0m\n\u001b[1;32m      1\u001b[0m \u001b[39m# Start server\u001b[39;00m\n\u001b[0;32m----> 2\u001b[0m fl\u001b[39m.\u001b[39;49mserver\u001b[39m.\u001b[39;49mstart_server(\n\u001b[1;32m      3\u001b[0m     server_address\u001b[39m=\u001b[39;49m\u001b[39m\"\u001b[39;49m\u001b[39m0.0.0.0:8080\u001b[39;49m\u001b[39m\"\u001b[39;49m,\n\u001b[1;32m      4\u001b[0m     config\u001b[39m=\u001b[39;49mfl\u001b[39m.\u001b[39;49mserver\u001b[39m.\u001b[39;49mServerConfig(num_rounds\u001b[39m=\u001b[39;49m\u001b[39m5\u001b[39;49m),\n\u001b[1;32m      5\u001b[0m     strategy\u001b[39m=\u001b[39;49mstrategy,\n\u001b[1;32m      6\u001b[0m )\n",
      "File \u001b[0;32m~/anaconda3/envs/tensorflow/lib/python3.10/site-packages/flwr/server/app.py:176\u001b[0m, in \u001b[0;36mstart_server\u001b[0;34m(server_address, server, config, strategy, client_manager, grpc_max_message_length, certificates)\u001b[0m\n\u001b[1;32m    168\u001b[0m log(\n\u001b[1;32m    169\u001b[0m     INFO,\n\u001b[1;32m    170\u001b[0m     \u001b[39m\"\u001b[39m\u001b[39mFlower ECE: gRPC server running (\u001b[39m\u001b[39m%s\u001b[39;00m\u001b[39m rounds), SSL is \u001b[39m\u001b[39m%s\u001b[39;00m\u001b[39m\"\u001b[39m,\n\u001b[1;32m    171\u001b[0m     initialized_config\u001b[39m.\u001b[39mnum_rounds,\n\u001b[1;32m    172\u001b[0m     \u001b[39m\"\u001b[39m\u001b[39menabled\u001b[39m\u001b[39m\"\u001b[39m \u001b[39mif\u001b[39;00m certificates \u001b[39mis\u001b[39;00m \u001b[39mnot\u001b[39;00m \u001b[39mNone\u001b[39;00m \u001b[39melse\u001b[39;00m \u001b[39m\"\u001b[39m\u001b[39mdisabled\u001b[39m\u001b[39m\"\u001b[39m,\n\u001b[1;32m    173\u001b[0m )\n\u001b[1;32m    175\u001b[0m \u001b[39m# Start training\u001b[39;00m\n\u001b[0;32m--> 176\u001b[0m hist \u001b[39m=\u001b[39m _fl(\n\u001b[1;32m    177\u001b[0m     server\u001b[39m=\u001b[39;49minitialized_server,\n\u001b[1;32m    178\u001b[0m     config\u001b[39m=\u001b[39;49minitialized_config,\n\u001b[1;32m    179\u001b[0m )\n\u001b[1;32m    181\u001b[0m \u001b[39m# Stop the gRPC server\u001b[39;00m\n\u001b[1;32m    182\u001b[0m grpc_server\u001b[39m.\u001b[39mstop(grace\u001b[39m=\u001b[39m\u001b[39m1\u001b[39m)\n",
      "File \u001b[0;32m~/anaconda3/envs/tensorflow/lib/python3.10/site-packages/flwr/server/app.py:217\u001b[0m, in \u001b[0;36m_fl\u001b[0;34m(server, config)\u001b[0m\n\u001b[1;32m    212\u001b[0m \u001b[39mdef\u001b[39;00m \u001b[39m_fl\u001b[39m(\n\u001b[1;32m    213\u001b[0m     server: Server,\n\u001b[1;32m    214\u001b[0m     config: ServerConfig,\n\u001b[1;32m    215\u001b[0m ) \u001b[39m-\u001b[39m\u001b[39m>\u001b[39m History:\n\u001b[1;32m    216\u001b[0m     \u001b[39m# Fit model\u001b[39;00m\n\u001b[0;32m--> 217\u001b[0m     hist \u001b[39m=\u001b[39m server\u001b[39m.\u001b[39;49mfit(num_rounds\u001b[39m=\u001b[39;49mconfig\u001b[39m.\u001b[39;49mnum_rounds, timeout\u001b[39m=\u001b[39;49mconfig\u001b[39m.\u001b[39;49mround_timeout)\n\u001b[1;32m    218\u001b[0m     log(INFO, \u001b[39m\"\u001b[39m\u001b[39mapp_fit: losses_distributed \u001b[39m\u001b[39m%s\u001b[39;00m\u001b[39m\"\u001b[39m, \u001b[39mstr\u001b[39m(hist\u001b[39m.\u001b[39mlosses_distributed))\n\u001b[1;32m    219\u001b[0m     log(INFO, \u001b[39m\"\u001b[39m\u001b[39mapp_fit: metrics_distributed_fit \u001b[39m\u001b[39m%s\u001b[39;00m\u001b[39m\"\u001b[39m, \u001b[39mstr\u001b[39m(hist\u001b[39m.\u001b[39mmetrics_distributed_fit))\n",
      "File \u001b[0;32m~/anaconda3/envs/tensorflow/lib/python3.10/site-packages/flwr/server/server.py:87\u001b[0m, in \u001b[0;36mServer.fit\u001b[0;34m(self, num_rounds, timeout)\u001b[0m\n\u001b[1;32m     85\u001b[0m \u001b[39m# Initialize parameters\u001b[39;00m\n\u001b[1;32m     86\u001b[0m log(INFO, \u001b[39m\"\u001b[39m\u001b[39mInitializing global parameters\u001b[39m\u001b[39m\"\u001b[39m)\n\u001b[0;32m---> 87\u001b[0m \u001b[39mself\u001b[39m\u001b[39m.\u001b[39mparameters \u001b[39m=\u001b[39m \u001b[39mself\u001b[39;49m\u001b[39m.\u001b[39;49m_get_initial_parameters(timeout\u001b[39m=\u001b[39;49mtimeout)\n\u001b[1;32m     88\u001b[0m log(INFO, \u001b[39m\"\u001b[39m\u001b[39mEvaluating initial parameters\u001b[39m\u001b[39m\"\u001b[39m)\n\u001b[1;32m     89\u001b[0m res \u001b[39m=\u001b[39m \u001b[39mself\u001b[39m\u001b[39m.\u001b[39mstrategy\u001b[39m.\u001b[39mevaluate(\u001b[39m0\u001b[39m, parameters\u001b[39m=\u001b[39m\u001b[39mself\u001b[39m\u001b[39m.\u001b[39mparameters)\n",
      "File \u001b[0;32m~/anaconda3/envs/tensorflow/lib/python3.10/site-packages/flwr/server/server.py:274\u001b[0m, in \u001b[0;36mServer._get_initial_parameters\u001b[0;34m(self, timeout)\u001b[0m\n\u001b[1;32m    272\u001b[0m \u001b[39m# Get initial parameters from one of the clients\u001b[39;00m\n\u001b[1;32m    273\u001b[0m log(INFO, \u001b[39m\"\u001b[39m\u001b[39mRequesting initial parameters from one random client\u001b[39m\u001b[39m\"\u001b[39m)\n\u001b[0;32m--> 274\u001b[0m random_client \u001b[39m=\u001b[39m \u001b[39mself\u001b[39;49m\u001b[39m.\u001b[39;49m_client_manager\u001b[39m.\u001b[39;49msample(\u001b[39m1\u001b[39;49m)[\u001b[39m0\u001b[39m]\n\u001b[1;32m    275\u001b[0m ins \u001b[39m=\u001b[39m GetParametersIns(config\u001b[39m=\u001b[39m{})\n\u001b[1;32m    276\u001b[0m get_parameters_res \u001b[39m=\u001b[39m random_client\u001b[39m.\u001b[39mget_parameters(ins\u001b[39m=\u001b[39mins, timeout\u001b[39m=\u001b[39mtimeout)\n",
      "File \u001b[0;32m~/anaconda3/envs/tensorflow/lib/python3.10/site-packages/flwr/server/client_manager.py:180\u001b[0m, in \u001b[0;36mSimpleClientManager.sample\u001b[0;34m(self, num_clients, min_num_clients, criterion)\u001b[0m\n\u001b[1;32m    178\u001b[0m \u001b[39mif\u001b[39;00m min_num_clients \u001b[39mis\u001b[39;00m \u001b[39mNone\u001b[39;00m:\n\u001b[1;32m    179\u001b[0m     min_num_clients \u001b[39m=\u001b[39m num_clients\n\u001b[0;32m--> 180\u001b[0m \u001b[39mself\u001b[39;49m\u001b[39m.\u001b[39;49mwait_for(min_num_clients)\n\u001b[1;32m    181\u001b[0m \u001b[39m# Sample clients which meet the criterion\u001b[39;00m\n\u001b[1;32m    182\u001b[0m available_cids \u001b[39m=\u001b[39m \u001b[39mlist\u001b[39m(\u001b[39mself\u001b[39m\u001b[39m.\u001b[39mclients)\n",
      "File \u001b[0;32m~/anaconda3/envs/tensorflow/lib/python3.10/site-packages/flwr/server/client_manager.py:125\u001b[0m, in \u001b[0;36mSimpleClientManager.wait_for\u001b[0;34m(self, num_clients, timeout)\u001b[0m\n\u001b[1;32m    108\u001b[0m \u001b[39m\u001b[39m\u001b[39m\"\"\"Wait until at least `num_clients` are available.\u001b[39;00m\n\u001b[1;32m    109\u001b[0m \n\u001b[1;32m    110\u001b[0m \u001b[39mBlocks until the requested number of clients is available or until a\u001b[39;00m\n\u001b[0;32m   (...)\u001b[0m\n\u001b[1;32m    122\u001b[0m \u001b[39msuccess : bool\u001b[39;00m\n\u001b[1;32m    123\u001b[0m \u001b[39m\"\"\"\u001b[39;00m\n\u001b[1;32m    124\u001b[0m \u001b[39mwith\u001b[39;00m \u001b[39mself\u001b[39m\u001b[39m.\u001b[39m_cv:\n\u001b[0;32m--> 125\u001b[0m     \u001b[39mreturn\u001b[39;00m \u001b[39mself\u001b[39;49m\u001b[39m.\u001b[39;49m_cv\u001b[39m.\u001b[39;49mwait_for(\n\u001b[1;32m    126\u001b[0m         \u001b[39mlambda\u001b[39;49;00m: \u001b[39mlen\u001b[39;49m(\u001b[39mself\u001b[39;49m\u001b[39m.\u001b[39;49mclients) \u001b[39m>\u001b[39;49m\u001b[39m=\u001b[39;49m num_clients, timeout\u001b[39m=\u001b[39;49mtimeout\n\u001b[1;32m    127\u001b[0m     )\n",
      "File \u001b[0;32m~/anaconda3/envs/tensorflow/lib/python3.10/threading.py:355\u001b[0m, in \u001b[0;36mCondition.wait_for\u001b[0;34m(self, predicate, timeout)\u001b[0m\n\u001b[1;32m    353\u001b[0m             \u001b[39mif\u001b[39;00m waittime \u001b[39m<\u001b[39m\u001b[39m=\u001b[39m \u001b[39m0\u001b[39m:\n\u001b[1;32m    354\u001b[0m                 \u001b[39mbreak\u001b[39;00m\n\u001b[0;32m--> 355\u001b[0m     \u001b[39mself\u001b[39;49m\u001b[39m.\u001b[39;49mwait(waittime)\n\u001b[1;32m    356\u001b[0m     result \u001b[39m=\u001b[39m predicate()\n\u001b[1;32m    357\u001b[0m \u001b[39mreturn\u001b[39;00m result\n",
      "File \u001b[0;32m~/anaconda3/envs/tensorflow/lib/python3.10/threading.py:324\u001b[0m, in \u001b[0;36mCondition.wait\u001b[0;34m(self, timeout)\u001b[0m\n\u001b[1;32m    322\u001b[0m \u001b[39melse\u001b[39;00m:\n\u001b[1;32m    323\u001b[0m     \u001b[39mif\u001b[39;00m timeout \u001b[39m>\u001b[39m \u001b[39m0\u001b[39m:\n\u001b[0;32m--> 324\u001b[0m         gotit \u001b[39m=\u001b[39m waiter\u001b[39m.\u001b[39;49macquire(\u001b[39mTrue\u001b[39;49;00m, timeout)\n\u001b[1;32m    325\u001b[0m     \u001b[39melse\u001b[39;00m:\n\u001b[1;32m    326\u001b[0m         gotit \u001b[39m=\u001b[39m waiter\u001b[39m.\u001b[39macquire(\u001b[39mFalse\u001b[39;00m)\n",
      "\u001b[0;31mKeyboardInterrupt\u001b[0m: "
     ]
    }
   ],
   "source": [
    "\n",
    "# Start server\n",
    "fl.server.start_server(\n",
    "    server_address=\"0.0.0.0:8080\",\n",
    "    config=fl.server.ServerConfig(num_rounds=5),\n",
    "    strategy=strategy,\n",
    ")\n"
   ]
  }
 ],
 "metadata": {
  "kernelspec": {
   "display_name": "tensorflow",
   "language": "python",
   "name": "python3"
  },
  "language_info": {
   "codemirror_mode": {
    "name": "ipython",
    "version": 3
   },
   "file_extension": ".py",
   "mimetype": "text/x-python",
   "name": "python",
   "nbconvert_exporter": "python",
   "pygments_lexer": "ipython3",
   "version": "3.10.11"
  },
  "orig_nbformat": 4
 },
 "nbformat": 4,
 "nbformat_minor": 2
}
